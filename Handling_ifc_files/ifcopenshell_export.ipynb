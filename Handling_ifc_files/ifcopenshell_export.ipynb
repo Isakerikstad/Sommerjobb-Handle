{
 "cells": [
  {
   "cell_type": "code",
   "execution_count": 7,
   "metadata": {},
   "outputs": [],
   "source": [
    "import os\n",
    "import openai\n",
    "import json\n",
    "import ifcopenshell\n"
   ]
  },
  {
   "cell_type": "code",
   "execution_count": 8,
   "metadata": {},
   "outputs": [],
   "source": [
    "# load and set our key\n",
    "with open('C:\\\\Users\\\\Isak\\\\Documents\\\\Programmeringsfiler\\\\Function calling chatGPT\\\\api_key.txt', 'r') as key:\n",
    "    api_key = key.read().strip()\n",
    "openai.api_key = api_key\n",
    "\n",
    "def run_dynamic_code(code):\n",
    "    exec(code)\n"
   ]
  },
  {
   "cell_type": "code",
   "execution_count": 9,
   "metadata": {},
   "outputs": [],
   "source": [
    "import ifcopenshell\n",
    "\n",
    "def read_ifc_file(file_path):\n",
    "    \"\"\"\n",
    "    Reads an IFC file.\n",
    "    \n",
    "    Args:\n",
    "        file_path (str): The path to the IFC file.\n",
    "\n",
    "    Returns:\n",
    "        ifcopenshell.file: The IFC file object.\n",
    "    \"\"\"\n",
    "    # Open the IFC file\n",
    "    ifc_file = ifcopenshell.open(file_path)\n",
    "\n",
    "    return ifc_file"
   ]
  },
  {
   "cell_type": "code",
   "execution_count": 10,
   "metadata": {},
   "outputs": [],
   "source": [
    "lysgaarden_ifc = read_ifc_file(r\"C:\\Users\\Isak\\Documents\\Programmeringsfiler\\javascript_project\\ifc_files\\Lysgaarden_RIB.ifc\")\n",
    "\n"
   ]
  },
  {
   "cell_type": "code",
   "execution_count": 12,
   "metadata": {},
   "outputs": [
    {
     "name": "stdout",
     "output_type": "stream",
     "text": [
      "IfcApplication\n",
      "IfcClassification\n",
      "IfcDerivedUnit\n",
      "IfcDimensionalExponents\n",
      "IfcDerivedUnitElement\n",
      "IfcMeasureWithUnit\n",
      "IfcPersonAndOrganization\n",
      "IfcMaterialLayer\n",
      "IfcMaterialLayerSet\n",
      "IfcPostalAddress\n",
      "IfcMaterial\n",
      "IfcPerson\n",
      "IfcMaterialList\n",
      "IfcMaterialLayerSetUsage\n",
      "IfcOrganization\n",
      "IfcOwnerHistory\n",
      "IfcRepresentationMap\n",
      "IfcPresentationLayerAssignment\n",
      "IfcSIUnit\n",
      "IfcShapeRepresentation\n",
      "IfcPresentationStyleAssignment\n",
      "IfcStyledRepresentation\n",
      "IfcSurfaceStyle\n",
      "IfcStyledItem\n",
      "IfcUnitAssignment\n",
      "IfcColourRgb\n",
      "IfcConversionBasedUnit\n",
      "IfcClassificationReference\n",
      "IfcArbitraryClosedProfileDef\n",
      "IfcFace\n",
      "IfcArbitraryProfileDefWithVoids\n",
      "IfcFaceOuterBound\n",
      "IfcHalfSpaceSolid\n",
      "IfcGeometricRepresentationContext\n",
      "IfcLocalPlacement\n",
      "IfcMappedItem\n",
      "IfcGeometricRepresentationSubContext\n",
      "IfcPolyLoop\n",
      "IfcMaterialDefinitionRepresentation\n",
      "IfcRectangleProfileDef\n",
      "IfcPolygonalBoundedHalfSpace\n",
      "IfcProductDefinitionShape\n",
      "IfcPropertySingleValue\n",
      "IfcSurfaceStyleRendering\n",
      "IfcCartesianPoint\n",
      "IfcAxis2Placement3D\n",
      "IfcAxis2Placement2D\n",
      "IfcCompositeCurveSegment\n",
      "IfcProject\n",
      "IfcCircleProfileDef\n",
      "IfcPlane\n",
      "IfcClosedShell\n",
      "IfcDirection\n",
      "IfcCartesianTransformationOperator3D\n",
      "IfcRelAssignsToGroup\n",
      "IfcIShapeProfileDef\n",
      "IfcExtrudedAreaSolid\n",
      "IfcFurnitureType\n",
      "IfcPropertySet\n",
      "IfcRelAssociatesClassification\n",
      "IfcRelAssociatesMaterial\n",
      "IfcRelVoidsElement\n",
      "IfcColumnType\n",
      "IfcRelDefinesByProperties\n",
      "IfcRelContainedInSpatialStructure\n",
      "IfcBuilding\n",
      "IfcBuildingStorey\n",
      "IfcCircleHollowProfileDef\n",
      "IfcBooleanClippingResult\n",
      "IfcCompositeCurve\n",
      "IfcRelDefinesByType\n",
      "IfcRelConnectsPathElements\n",
      "IfcOpeningElement\n",
      "IfcFacetedBrep\n",
      "IfcPolyline\n",
      "IfcFurnishingElement\n",
      "IfcGroup\n",
      "IfcSite\n",
      "IfcRelAggregates\n",
      "IfcColumn\n",
      "IfcBeamType\n",
      "IfcBuildingElementProxyType\n",
      "IfcCircle\n",
      "IfcTrimmedCurve\n",
      "IfcWallType\n",
      "IfcBuildingElementProxy\n",
      "IfcCovering\n",
      "IfcWallStandardCase\n",
      "IfcBeam\n",
      "IfcSlab\n",
      "IfcWall\n",
      "91\n"
     ]
    }
   ],
   "source": [
    "def print_all_element_types(ifc_file):\n",
    "    \"\"\"\n",
    "    Prints all element types in an IFC file.\n",
    "\n",
    "    Args:\n",
    "        ifc_file (ifcopenshell.file): The IFC file.\n",
    "    \"\"\"\n",
    "    # Get a list of all element types in the IFC file\n",
    "    element_types = ifc_file.types()\n",
    "    \n",
    "    # Print each element type\n",
    "    for element_type in element_types:\n",
    "        print(element_type)\n",
    "    print(len(element_types))\n",
    "\n",
    "print_all_element_types(lysgaarden_ifc) "
   ]
  },
  {
   "cell_type": "code",
   "execution_count": null,
   "metadata": {},
   "outputs": [],
   "source": [
    "def print_first_n_ifc_elements(ifc_file, element_type, n):\n",
    "    \"\"\"\n",
    "    Prints the first `n` elements of a specific type from an IFC file.\n",
    "\n",
    "    Args:\n",
    "        ifc_file (ifcopenshell.file): The IFC file.\n",
    "        element_type (str): The type of elements to extract.\n",
    "        n (int): The number of elements to print.\n",
    "    \"\"\"\n",
    "    # Get a list of all the elements of the specified type in the IFC file\n",
    "    elements = ifc_file.by_type(element_type)\n",
    "\n",
    "    # Print the first `n` elements\n",
    "    for element in elements[:n]:\n",
    "        print(element)"
   ]
  },
  {
   "cell_type": "code",
   "execution_count": null,
   "metadata": {},
   "outputs": [
    {
     "name": "stdout",
     "output_type": "stream",
     "text": [
      "#204=IfcWallStandardCase('3BbiG3d$95eBR1qFySecUi',#41,'Basic Wall:Innervegg Betong 200:487149',$,'Basic Wall:Innervegg Betong 200:389568',#173,#200,'487149')\n",
      "#779=IfcWallStandardCase('3BbiG3d$95eBR1qFySecOF',#41,'Basic Wall:Innervegg Betong 200:487246',$,'Basic Wall:Innervegg Betong 200:389568',#759,#777,'487246')\n",
      "#1317=IfcWallStandardCase('3BbiG3d$95eBR1qFySedba',#41,'Basic Wall:Innervegg Betong 200:487461',$,'Basic Wall:Innervegg Betong 200:389568',#1297,#1315,'487461')\n",
      "#1359=IfcWallStandardCase('3BbiG3d$95eBR1qFySeddu',#41,'Basic Wall:Innervegg Betong 200:487609',$,'Basic Wall:Innervegg Betong 200:389568',#1339,#1357,'487609')\n",
      "#1401=IfcWallStandardCase('3BbiG3d$95eBR1qFySedWF',#41,'Basic Wall:Innervegg Betong 200:487758',$,'Basic Wall:Innervegg Betong 200:389568',#1381,#1399,'487758')\n",
      "#1939=IfcWallStandardCase('3BbiG3d$95eBR1qFySedYE',#41,'Basic Wall:Innervegg Betong 200:487887',$,'Basic Wall:Innervegg Betong 200:389568',#1919,#1937,'487887')\n",
      "#3712=IfcWallStandardCase('3BbiG3d$95eBR1qFySedki',#41,'Basic Wall:Innervegg Betong 250:488173',$,'Basic Wall:Innervegg Betong 250:389583',#3692,#3710,'488173')\n",
      "#27408=IfcWallStandardCase('0N6fNksxvCnvR6_27VZjoK',#41,'Basic Wall:Innervegg Betong 200:572048',$,'Basic Wall:Innervegg Betong 200:389568',#27388,#27406,'572048')\n",
      "#27450=IfcWallStandardCase('0N6fNksxvCnvR6_27VZjp8',#41,'Basic Wall:Innervegg Betong 200:572108',$,'Basic Wall:Innervegg Betong 200:389568',#27430,#27448,'572108')\n",
      "#28850=IfcWallStandardCase('0N6fNksxvCnvR6_27VZjgj',#41,'Basic Wall:Innervegg Betong 200:572585',$,'Basic Wall:Innervegg Betong 200:389568',#28830,#28848,'572585')\n"
     ]
    }
   ],
   "source": [
    "print_first_n_ifc_elements(ifcfil, 'IfcWallStandardCase', 10)"
   ]
  },
  {
   "cell_type": "code",
   "execution_count": null,
   "metadata": {},
   "outputs": [],
   "source": [
    "print_first_n_ifc_elements(lysgaarden_ifc, 'IfcWallStandardCase', 10)"
   ]
  },
  {
   "cell_type": "code",
   "execution_count": null,
   "metadata": {},
   "outputs": [],
   "source": [
    "\n",
    "def export_ifc_file():\n",
    "    import ifcopenshell\n",
    "    file_path = 'C:/Users/<username>/Desktop/ifc_excel.ifc'\n",
    "    ifc_file = ifcopenshell.open(file_path)\n",
    "    ifc_file.export(file_path)"
   ]
  }
 ],
 "metadata": {
  "kernelspec": {
   "display_name": "Python 3",
   "language": "python",
   "name": "python3"
  },
  "language_info": {
   "codemirror_mode": {
    "name": "ipython",
    "version": 3
   },
   "file_extension": ".py",
   "mimetype": "text/x-python",
   "name": "python",
   "nbconvert_exporter": "python",
   "pygments_lexer": "ipython3",
   "version": "3.11.4"
  },
  "orig_nbformat": 4
 },
 "nbformat": 4,
 "nbformat_minor": 2
}
